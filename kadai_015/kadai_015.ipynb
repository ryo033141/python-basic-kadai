{
  "nbformat": 4,
  "nbformat_minor": 0,
  "metadata": {
    "colab": {
      "provenance": []
    },
    "kernelspec": {
      "name": "python3",
      "display_name": "Python 3"
    },
    "language_info": {
      "name": "python"
    }
  },
  "cells": [
    {
      "cell_type": "code",
      "execution_count": 3,
      "metadata": {
        "colab": {
          "base_uri": "https://localhost:8080/"
        },
        "id": "wWK_iQPrEDKE",
        "outputId": "dc7b0527-fa32-4f49-eb0a-b9e6b6c4dc3e"
      },
      "outputs": [
        {
          "output_type": "stream",
          "name": "stdout",
          "text": [
            "山田太郎\n",
            "36\n"
          ]
        }
      ],
      "source": [
        "# Humanクラスを定義\n",
        "class Human:\n",
        "  # コンストラクタを定義\n",
        "  def __init__(self,name,age):\n",
        "    self.name = name\n",
        "    self.age = age\n",
        "  # nameとageを標準出力するメソッドを定義\n",
        "  def printinfo(self):\n",
        "    print(self.name)\n",
        "    print(self.age)\n",
        "\n",
        "# インスタンスを作成\n",
        "human = Human(\"山田太郎\",36)\n",
        "human. printinfo()"
      ]
    }
  ]
}