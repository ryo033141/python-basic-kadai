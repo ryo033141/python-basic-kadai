{
  "nbformat": 4,
  "nbformat_minor": 0,
  "metadata": {
    "colab": {
      "provenance": []
    },
    "kernelspec": {
      "name": "python3",
      "display_name": "Python 3"
    },
    "language_info": {
      "name": "python"
    }
  },
  "cells": [
    {
      "cell_type": "code",
      "execution_count": 64,
      "metadata": {
        "colab": {
          "base_uri": "https://localhost:8080/"
        },
        "id": "x64fF9szodJF",
        "outputId": "6abc5948-9c0b-47e3-c9b3-eb8a03f400f0"
      },
      "outputs": [
        {
          "output_type": "stream",
          "name": "stdout",
          "text": [
            "乱数の確認：3\n",
            "Fizz\n"
          ]
        }
      ],
      "source": [
        "import random\n",
        "\n",
        " # 1から15の間のランダムな整数\n",
        "var = random.randint(1, 15)\n",
        "print(\"乱数の確認：\" + str(var))\n",
        "\n",
        "# FizzBuzz問題のプログラム\n",
        "if var % 3 == 0 and var % 5 == 0:\n",
        "  print(\"FizzBuzz\")\n",
        "elif var % 3 == 0:\n",
        "  print(\"Fizz\")\n",
        "elif var % 5 == 0:\n",
        "  print(\"Buzz\")\n",
        "else:\n",
        "  print(var)"
      ]
    }
  ]
}