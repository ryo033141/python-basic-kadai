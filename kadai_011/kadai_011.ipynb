{
  "nbformat": 4,
  "nbformat_minor": 0,
  "metadata": {
    "colab": {
      "provenance": []
    },
    "kernelspec": {
      "name": "python3",
      "display_name": "Python 3"
    },
    "language_info": {
      "name": "python"
    }
  },
  "cells": [
    {
      "cell_type": "code",
      "execution_count": 14,
      "metadata": {
        "id": "Q6s3JUzwGntt",
        "colab": {
          "base_uri": "https://localhost:8080/"
        },
        "outputId": "339e1b3e-ae79-4bad-f0d9-cd969adecb94"
      },
      "outputs": [
        {
          "output_type": "stream",
          "name": "stdout",
          "text": [
            "水\n",
            "金\n",
            "地\n",
            "火\n",
            "木\n",
            "土\n",
            "天\n",
            "海\n",
            "冥\n",
            "水\n",
            "金\n",
            "地\n",
            "火\n",
            "木\n",
            "土\n",
            "天\n",
            "海\n",
            "冥\n"
          ]
        }
      ],
      "source": [
        "# リストの中身を先頭から全て取り出すプログラム\n",
        "array = [\"水\",\"金\",\"地\",\"火\",\"木\",\"土\",\"天\",\"海\",\"冥\"]\n",
        "\n",
        "# for文を使った場合\n",
        "for array_output in array:\n",
        "  print(array_output)\n",
        "\n",
        "# while文を使った場合\n",
        "\n",
        "# インデックスを初期化\n",
        "i = 0\n",
        "\n",
        "# while文を使ってリストの最後まで繰り返す\n",
        "while i < len(array):\n",
        "    print(array[i])\n",
        "    # インデックスを1増やす\n",
        "    i = i + 1"
      ]
    }
  ]
}