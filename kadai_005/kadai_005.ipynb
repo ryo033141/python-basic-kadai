{
  "nbformat": 4,
  "nbformat_minor": 0,
  "metadata": {
    "colab": {
      "provenance": []
    },
    "kernelspec": {
      "name": "python3",
      "display_name": "Python 3"
    },
    "language_info": {
      "name": "python"
    }
  },
  "cells": [
    {
      "cell_type": "code",
      "execution_count": null,
      "metadata": {
        "colab": {
          "base_uri": "https://localhost:8080/"
        },
        "id": "LY7je5dfOsxO",
        "outputId": "78663a38-4207-4af6-b684-07070c6d53fe"
      },
      "outputs": [
        {
          "output_type": "stream",
          "name": "stdout",
          "text": [
            "75.0cm²\n"
          ]
        }
      ],
      "source": [
        "# 台形の面積を計算するプログラム\n",
        "height = 10\n",
        "width = 20\n",
        "depth = 5\n",
        "\n",
        "area = (height + width) * depth / 2\n",
        "\n",
        "print(str(area) + \"cm²\")"
      ]
    },
    {
      "cell_type": "code",
      "source": [],
      "metadata": {
        "id": "XdMPc1ZNRc0x"
      },
      "execution_count": null,
      "outputs": []
    }
  ]
}