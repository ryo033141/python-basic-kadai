{
  "nbformat": 4,
  "nbformat_minor": 0,
  "metadata": {
    "colab": {
      "provenance": []
    },
    "kernelspec": {
      "name": "python3",
      "display_name": "Python 3"
    },
    "language_info": {
      "name": "python"
    }
  },
  "cells": [
    {
      "cell_type": "code",
      "execution_count": 3,
      "metadata": {
        "colab": {
          "base_uri": "https://localhost:8080/"
        },
        "id": "mCbYGDEbkH6m",
        "outputId": "634bbb20-171f-4c53-8960-e3061f845a0e"
      },
      "outputs": [
        {
          "output_type": "stream",
          "name": "stdout",
          "text": [
            "275.0\n"
          ]
        }
      ],
      "source": [
        "# 商品購入時の消費税を、関数で計算するプログラム\n",
        "# 消費税を計算する関数を定義\n",
        "def calc_tax(price,tax):\n",
        "  tax_price = price + (price * tax)\n",
        "  return tax_price\n",
        "\n",
        "# 250円の商品を購入した時の税込み価格を出力\n",
        "print(calc_tax(250,0.10))"
      ]
    }
  ]
}