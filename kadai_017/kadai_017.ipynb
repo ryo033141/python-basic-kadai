{
  "nbformat": 4,
  "nbformat_minor": 0,
  "metadata": {
    "colab": {
      "provenance": []
    },
    "kernelspec": {
      "name": "python3",
      "display_name": "Python 3"
    },
    "language_info": {
      "name": "python"
    }
  },
  "cells": [
    {
      "cell_type": "code",
      "execution_count": 30,
      "metadata": {
        "colab": {
          "base_uri": "https://localhost:8080/"
        },
        "id": "5Ze4ZPvwAx0B",
        "outputId": "95dcc1dc-fde5-4ccd-a9b3-37f50d2969d1"
      },
      "outputs": [
        {
          "output_type": "stream",
          "name": "stdout",
          "text": [
            "大人です。\n",
            "大人ではありません。\n",
            "大人です。\n",
            "大人ではありません。\n",
            "大人です。\n"
          ]
        }
      ],
      "source": [
        "# Humanクラスを定義\n",
        "class Human:\n",
        "  # コンストラクタを定義\n",
        "  def __init__(self,age):\n",
        "    self.age = age\n",
        "  # check_adultメソッドを定義\n",
        "  def check_adult(self):\n",
        "    # 年齢が20歳以上の時\n",
        "    if self.age >= 20:\n",
        "      print(\"大人です。\")\n",
        "    # そうでない時\n",
        "    else:\n",
        "      print(\"大人ではありません。\")\n",
        "\n",
        "# Humanクラスのインスタンスのリストを作成\n",
        "human = [Human(25),Human(19),Human(36),Human(10),Human(40)]\n",
        "\n",
        "# インデックスに使う変数を定義\n",
        "i = 0\n",
        "\n",
        "# リストの要素分だけ繰り返す\n",
        "while i < len(human):\n",
        "  human[i].check_adult()\n",
        "  i = i + 1"
      ]
    }
  ]
}